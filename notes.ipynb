{
 "cells": [
  {
   "cell_type": "markdown",
   "metadata": {},
   "source": [
    "# Perception\n",
    "\n",
    "Paper: Predicting users' first impressions of website aesthetics with a quantification of perceived visual complexity and colorfulness\n",
    "\n",
    "Users form an opinion of a site within a second of seeing it of first time; much before consciously\n",
    "noticing any details or content. If perceived somewhat negatively, users are less likely to trust a\n",
    "site and prefer alternatives. Thus, having right aesthetics to create a right impression is\n",
    "necessary but no methods existed to predict the aesthetic appeal of a design.\n",
    "\n",
    "The authors addressed this by developing perceptual models of visual complexity and colorfulness of\n",
    "websites and using them to predict user perception of a site. They first conducted experiments with\n",
    "about 550 volunteers to collect info on colorfulness, complexity and visual rating of sites and then\n",
    "used this data to construct models to predict user perception. The authors state that their\n",
    "predictions verify the importance of first impression created at the first sight itself and that\n",
    "colorfullness of a site doesn't contribute as much to the appeal as the overall visual complexity of\n",
    "the site. Further, the authors state that first impressions also depend on age, gender and education\n",
    "level of the users as well.\n",
    "\n",
    "The tests were performed on 450 websites, 350 of which were in English, 60 in a language with a\n",
    "script different from English, 20 webby award nominated sites and 20 English language sites\n",
    "converted to grayscale. The authors computed the symmetry, balance and equilibrium using the\n",
    "quadtree decomposition and followed the methodology described in existing work. Additional\n",
    "computational metrics enabled identifying outlines of objects on the page such as text and images.\n",
    "\n",
    "Participants were asked to rate the chosen sites via a 10 minute online test conducted on a custom\n",
    "platform developed by authors. A screenshot of each site was displayed for 500ms and participants\n",
    "were asked to rate them. The small duration avoided an in-depth engagement and enables capturing the\n",
    "initial reactions of participants. The rating was on a 9 point Likert scale ranging from \"not at all\n",
    "colorful\" to \"very colorful\". After a short break, participants rated all the sites again but in a\n",
    "different, random order to measure their judgement's consistency. The same process and framework was\n",
    "also used to rate the screenshots on visual appeal as well. The experiments had 306 and 242\n",
    "participants respectively.\n",
    "\n",
    "Based on their experiments, they concluded that a high visual complexity results in the largest\n",
    "decrease in visual appeal but sites with low or medium complexity result are similarly liked.\n",
    "Additionally, they found that the perceived colorfulness has very little impact on the first\n",
    "impression. Further, their model was tailored to take into account personal characteristics such as\n",
    "age, education and gender. The authors found that the education level was correlated with\n",
    "colorfullness, age with complexity while gender had no interaction effects with either."
   ]
  },
  {
   "cell_type": "markdown",
   "metadata": {},
   "source": [
    "# Maps and cartography\n",
    "\n",
    "Paper: Value-by-alpha maps: An alternative technique to the cartogram\n",
    "\n",
    "Choropleth maps are the typical choice for representing social data with geographic references but\n",
    "can be misleading. For instance, a raw incidence count inaccurately reflects the spatial pattern\n",
    "because large populations can have higher incidence counts than smaller counterparts. Here, the\n",
    "variable being mapped is caused as much by the size, shape, distribution, and composition of the\n",
    "values as the variable itself. While the raw counts can be standardized by a second variable,\n",
    "information about incidence frequency in the variable is lost making it impossible to distinguish\n",
    "high incidence-large population areas from low incidence-small population areas.\n",
    "\n",
    "Cartograms solve this by scaling each unit in proportion to the second variable and thus visually\n",
    "equalizing the basemap. The variable of interest is then represented on this map using choropleth\n",
    "approach, thus enabling viewers to discern information from both variables. But, cartograms\n",
    "compromise shape and topology when equalizing the base map.\n",
    "\n",
    "The authors propose an alternative approach, \"value-by-alpha\", which adjusts the color's alpha\n",
    "channel of all enumerated units using an equalizing variable. By equalizing the alpha channel, units\n",
    "with low equalizing values are less distinguishable from the background and thus, a spotlight effect\n",
    "is produced over areas with high values for equalizing variable. For instance, when displaying\n",
    "voting trends across US, typically the states simply get colored to indicate which party won there.\n",
    "This gives precedence to the area of the state and not the population, which is what influences\n",
    "outcome of the election. By plotting a choropleth map that gives uses population as the equalizing\n",
    "variable, a much better map, which conveys information appropriately, can be obtained. This\n",
    "equalizing approach enables understanding complex and subtle patterns related to geographic\n",
    "locations while not distorting the overall geographic layout in the map. This makes it easy to\n",
    "understand value-by-alpha maps and also enables easy comparison of 2 value-by-alpha maps than 2\n",
    "cartograms."
   ]
  },
  {
   "cell_type": "markdown",
   "metadata": {},
   "source": [
    "# D3\n",
    "\n",
    "## Grouping elements using D3\n",
    "\n",
    "Grouping elements enables transforming multiple elements at same time. This can be done using the\n",
    "SVG group element. To add existing elements to a new group:\n",
    "\n",
    "```javascript\n",
    "    var svgCircle = d3.select(\"#viz\").append(\"svg\")\n",
    "    .attr(\"width\", 600) .attr(\"height\", 300);\n",
    "    var svgGroup = d3.select(\"svg\").append(\"g\").attr(\"class\", \"svgGroup1\");\n",
    "\n",
    "    var circles = d3.selectAll(\"circle\")[0];\n",
    "    for (var i = 0; i < circles.length; i++) {\n",
    "        var removed = d3.select(circles[i]).remove();\n",
    "        svgGroup.append(function() {\n",
    "            return removed.node();\n",
    "        })\n",
    "    }\n",
    "```\n",
    "\n",
    "To transform a group of SVG elements, the group can be used:\n",
    "\n",
    "```javascript\n",
    "    svgGroup.attr(\"transform\", \"translate(30, 0)\");\n",
    "```"
   ]
  },
  {
   "cell_type": "markdown",
   "metadata": {},
   "source": [
    "# Mapping in R\n",
    "\n",
    "Some code samples for creating maps in R."
   ]
  },
  {
   "cell_type": "code",
   "execution_count": null,
   "metadata": {},
   "outputs": [],
   "source": [
    "library(maps)\n",
    "# Map of US states\n",
    "map(\"state\")"
   ]
  },
  {
   "cell_type": "code",
   "execution_count": null,
   "metadata": {},
   "outputs": [],
   "source": [
    "# World map\n",
    "map(\"world\")"
   ]
  },
  {
   "cell_type": "code",
   "execution_count": null,
   "metadata": {},
   "outputs": [],
   "source": [
    "# North America plot\n",
    "xlim <- c(-171.738281, -56.601563)\n",
    "ylim <- c(12.039321, 71.856229)\n",
    "map(\"world\", col= \"#f3f3f3\", fill= TRUE, bg= \"white\", lwd= 0.3, xlim=xlim, ylim=ylim)"
   ]
  },
  {
   "cell_type": "code",
   "execution_count": null,
   "metadata": {},
   "outputs": [],
   "source": [
    "# New york state plot\n",
    "map(\"state\", \"New York\")\n",
    "data(us.cities)\n",
    "map.cities(us.cities, country=\"NY\")"
   ]
  },
  {
   "cell_type": "code",
   "execution_count": null,
   "metadata": {},
   "outputs": [],
   "source": [
    "# highlight texas\n",
    "map(\"state\", col= \"grey\", boundary=TRUE, fill= TRUE, lty= 5,lwd= 0.2)\n",
    "map(\"state\", regions= \"texas\", col = \"red\", fill= TRUE, add= TRUE, lty= 1, lwd= 2)\n",
    "map.text(\"state\",\"texas\", col=\"white\", add= TRUE)"
   ]
  }
 ],
 "metadata": {
  "kernelspec": {
   "display_name": "R",
   "language": "R",
   "name": "ir"
  },
  "language_info": {
   "codemirror_mode": "r",
   "file_extension": ".r",
   "mimetype": "text/x-r-source",
   "name": "R",
   "pygments_lexer": "r",
   "version": "3.6.2"
  }
 },
 "nbformat": 4,
 "nbformat_minor": 4
}
